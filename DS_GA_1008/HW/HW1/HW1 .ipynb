{
 "cells": [
  {
   "cell_type": "markdown",
   "id": "991672c1",
   "metadata": {},
   "source": [
    "# Joby George\n",
    "# HW 1\n",
    "# DS GA 1008\n",
    "## Due 9/29/22\n",
    "\n"
   ]
  },
  {
   "cell_type": "markdown",
   "id": "7bac932d",
   "metadata": {},
   "source": [
    "# Section 1\n",
    "\n",
    "## 1.1\n",
    "\n",
    "You are given the following neural net architecture:\n",
    "\n",
    "$$Linear_1 \\rightarrow \\mathcal{f} \\rightarrow Linear_2 \\rightarrow g  $$\n",
    "\n",
    "where $Linear_i(x)$ = $\\bold{W^{(i)}x + b^{(i)}}$ is the i-th affine transformation, and *f,g* are element-wise nonlinear activation functions. when an input x $\\in$ $R^{n}$ is fed to the network, $\\hat{y}$ $\\in$ $R^{k}$ is obtaied as the output\n",
    "\n",
    "## 1.2\n",
    "\n",
    "We would like to perform the regression task. we choose f(.) = 5ReLU(.) and g to be the identity function. To train the network, we chose MSE loss function:\n",
    "\n",
    "$$ l_{MSE}(\\hat{y},y) = ||\\hat{y} - y||^2$$\n",
    "\n",
    "where y is the target output. \n",
    "\n",
    "### Questions\n",
    "\n",
    "Is y a real number or a vector\n",
    "\n"
   ]
  },
  {
   "cell_type": "markdown",
   "id": "825cf47b",
   "metadata": {},
   "source": [
    "### A\n",
    "\n",
    "Name and mathematically describe the 5 programming steps you would take to train this model with PyTorch using SGD on a single batch of data.\n",
    "\n",
    "\n",
    "### Answer: \n",
    "\n",
    "        1: \n",
    "        2:\n",
    "        3:\n",
    "        4:\n",
    "        5:\n",
    "\n",
    "# Look this up using the lab notebooks"
   ]
  },
  {
   "cell_type": "markdown",
   "id": "faaaf88c",
   "metadata": {},
   "source": [
    "### B\n",
    "\n",
    "For a single datapoint(x,y),write down all inputs and outputs for forward pass of each layer. You can only use variable $\\bold{x,y, W^{(1)}, b^{(1)}, W^{(2)}, b^{(2)}}$ in your answer. (note that  $Linear_i(x)$ = $\\bold{W^{(i)}x + b^{(i)}}$) \n",
    "\n",
    "### Answer\n",
    "The overall set of steps can be defined procedeurally as: \n",
    "\n",
    "$$ Input\\space layer: x \\in R^{n} \\rightarrow Linear_1 \\rightarrow \\mathcal{f} \\rightarrow Linear_2 \\rightarrow g$$\n",
    "\n",
    "$$z_1 = Linear_1 = W^{(1)}x +b^(1)$$\n",
    "\n",
    "$$z_2 = f = 5ReLu(z_1)$$\n",
    "\n",
    "$$z_3 = Linear_2 = W^{(2)}z_2 +b^(2)$$\n",
    "\n",
    "$$\\hat{y} = g = I_kz_3$$\n",
    "\n",
    "$$L(\\hat{y},y) = ||\\hat{y}-y||^2$$\n",
    "\n",
    "### Questions\n",
    "\n",
    "Are we also allowed to use $\\hat{y}$ "
   ]
  },
  {
   "cell_type": "markdown",
   "id": "2417f741",
   "metadata": {},
   "source": [
    "### C\n",
    "\n",
    "Write down the gradients calculated from the backward pass. You can only use the following variables:$\\bold{x,y, W^{(1)}, b^{(1)}, W^{(2)}, b^{(2)}},\\frac{\\partial{l}}{\\partial{\\bf{{\\hat{y}}}}}, \\frac{\\partial{z_2}}{\\partial{z_1}}, \\frac{\\partial{\\hat{y}}}{\\partial{z_3}}$ in your answer.\n",
    "\n",
    "### Answer:\n",
    "The derivatives in the backpropogation are the change in our loss function with respect to our inputs, and our weights, represented by: $\\frac{\\partial{l}}{x_i}$ and $\\frac{\\partial{l}}{W_i^{(k)}}$\n",
    "\n",
    "$$\\frac{\\partial{l}}{x_i} = \\frac{\\partial{l}}{\\partial{\\hat{y}}}*\n",
    "\\frac{\\partial{\\hat{y}}}{z_3}*\n",
    "\\frac{\\partial{z_3}}{\\partial{W^{(2)}}}*\\frac{\\partial{d}}\n",
    "\n",
    "$$\n",
    "\n"
   ]
  },
  {
   "cell_type": "code",
   "execution_count": null,
   "id": "bec509e5",
   "metadata": {},
   "outputs": [],
   "source": []
  },
  {
   "cell_type": "markdown",
   "id": "d90405e4",
   "metadata": {},
   "source": [
    "To solve this, we backpropogate from our forward pass. \n",
    "The first derivative in the backpropogation comes from the last function of the forward pas:\n",
    "\n",
    "$$L(\\hat{y},y) = ||\\hat{y}-y||^2$$\n",
    "\n",
    "$$\\frac{\\partial{l}}{\\partial{\\bf{{\\hat{y}}}}} = \n",
    "<\\hat{y}-y>^T<\\hat{y}-y>\\frac{\\partial{l}}{\\partial{\\bf{{\\hat{y}}}}}$$\n",
    "\n",
    "$$\\frac{\\partial{l}}{\\partial{\\bf{{\\hat{y}}}}} = \\hat{y}^2 - 2\\hat{y}y + y^2 \\frac{\\partial{l}}{\\partial{\\bf{{\\hat{y}}}}}$$\n",
    "\n",
    "\n",
    "$$\\frac{\\partial{l}}{\\partial{\\bf{{\\hat{y}}}}} = 2(\\hat{y}-y)$$\n",
    "\n",
    "\n",
    "The next deriative is the change in $\\hat{y}$ with respect to $z_3$. \n",
    "\n",
    "$$\\hat{y} = I_kz_3$$\n",
    "\n",
    "$$\\frac{\\partial{\\hat{y}}}{\\partial{z_3}} = I_kz_3$$\n",
    "\n",
    "The next deriative is the change in $z_3$ with respect to $z_3$. \n"
   ]
  },
  {
   "cell_type": "code",
   "execution_count": null,
   "id": "b7480102",
   "metadata": {},
   "outputs": [],
   "source": []
  },
  {
   "cell_type": "code",
   "execution_count": null,
   "id": "3e0e75ae",
   "metadata": {},
   "outputs": [],
   "source": []
  },
  {
   "cell_type": "markdown",
   "id": "f9a2c761",
   "metadata": {},
   "source": [
    "### D: \n",
    "Show us the elements of $\\frac{\\partial{z_2}}{\\partial{z_1}}, \\frac{\\partial{\\hat{y}}}{\\partial{z_3}}$ and $\\frac{\\partial{l}}{\\partial{\\bf{{\\hat{y}}}}}$ (be careful about the dimensionality)"
   ]
  },
  {
   "cell_type": "markdown",
   "id": "6a6592e6",
   "metadata": {},
   "source": [
    "## 1.3\n",
    "\n",
    "We would like to perform multi-class classification task, so we set f = tanh and g = $\\sigma$ the logistic sigmoid function:\n",
    "\n",
    "$$\\sigma(z) = (1+exp(-x))^{-1}$$\n",
    "\n"
   ]
  },
  {
   "cell_type": "markdown",
   "id": "c79366da",
   "metadata": {},
   "source": [
    "### A\n",
    "\n",
    "If you want to train this network, what do you need to change in the equations of (b), (c) and (d), assuming we are using the same MSE loss function\n",
    "\n",
    "### Answer\n",
    "\n",
    "We would change b to be "
   ]
  },
  {
   "cell_type": "markdown",
   "id": "d2b32b02",
   "metadata": {},
   "source": [
    "### B \n",
    "\n",
    "Now you think you can do a better job by using a Bi- nary Cross Entropy (BCE) loss function\n",
    "\n",
    "# Fill in equation\n",
    "\n",
    "What do you need to change in the equations of (b), (c)\n",
    "and (d)"
   ]
  },
  {
   "cell_type": "code",
   "execution_count": null,
   "id": "cdaae258",
   "metadata": {},
   "outputs": [],
   "source": [
    "### C\n",
    "\n",
    "will this work adfb"
   ]
  },
  {
   "cell_type": "code",
   "execution_count": null,
   "id": "2a22fadf",
   "metadata": {},
   "outputs": [],
   "source": [
    "### D\n",
    "ASH"
   ]
  }
 ],
 "metadata": {
  "kernelspec": {
   "display_name": "Python 3.8.9 64-bit",
   "language": "python",
   "name": "python3"
  },
  "language_info": {
   "codemirror_mode": {
    "name": "ipython",
    "version": 3
   },
   "file_extension": ".py",
   "mimetype": "text/x-python",
   "name": "python",
   "nbconvert_exporter": "python",
   "pygments_lexer": "ipython3",
   "version": "3.8.9"
  },
  "latex_envs": {
   "LaTeX_envs_menu_present": true,
   "autoclose": false,
   "autocomplete": true,
   "bibliofile": "biblio.bib",
   "cite_by": "apalike",
   "current_citInitial": 1,
   "eqLabelWithNumbers": true,
   "eqNumInitial": 1,
   "hotkeys": {
    "equation": "Ctrl-E",
    "itemize": "Ctrl-I"
   },
   "labels_anchors": false,
   "latex_user_defs": false,
   "report_style_numbering": false,
   "user_envs_cfg": false
  },
  "toc": {
   "base_numbering": 1,
   "nav_menu": {},
   "number_sections": true,
   "sideBar": true,
   "skip_h1_title": false,
   "title_cell": "Table of Contents",
   "title_sidebar": "Contents",
   "toc_cell": false,
   "toc_position": {},
   "toc_section_display": true,
   "toc_window_display": false
  },
  "varInspector": {
   "cols": {
    "lenName": 16,
    "lenType": 16,
    "lenVar": 40
   },
   "kernels_config": {
    "python": {
     "delete_cmd_postfix": "",
     "delete_cmd_prefix": "del ",
     "library": "var_list.py",
     "varRefreshCmd": "print(var_dic_list())"
    },
    "r": {
     "delete_cmd_postfix": ") ",
     "delete_cmd_prefix": "rm(",
     "library": "var_list.r",
     "varRefreshCmd": "cat(var_dic_list()) "
    }
   },
   "types_to_exclude": [
    "module",
    "function",
    "builtin_function_or_method",
    "instance",
    "_Feature"
   ],
   "window_display": false
  },
  "vscode": {
   "interpreter": {
    "hash": "31f2aee4e71d21fbe5cf8b01ff0e069b9275f58929596ceb00d14d90e3e16cd6"
   }
  }
 },
 "nbformat": 4,
 "nbformat_minor": 5
}
